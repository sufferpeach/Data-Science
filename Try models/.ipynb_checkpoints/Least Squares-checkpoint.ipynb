{
 "cells": [
  {
   "cell_type": "code",
   "execution_count": 72,
   "metadata": {
    "collapsed": true
   },
   "outputs": [],
   "source": [
    "import matplotlib.pyplot as plt\n",
    "import numpy as np"
   ]
  },
  {
   "cell_type": "code",
   "execution_count": 73,
   "metadata": {},
   "outputs": [],
   "source": [
    "class1 = np.empty((3, 50))\n",
    "class1[0] = np.ones(50)\n",
    "class1[1] = np.random.normal(10, 10, 50)\n",
    "class1[2] = np.random.normal(0, 10, 50)"
   ]
  },
  {
   "cell_type": "code",
   "execution_count": 74,
   "metadata": {},
   "outputs": [],
   "source": [
    "class2 = np.empty((3, 50))\n",
    "class2[0] = np.ones(50)\n",
    "class2[1] = np.random.normal(0, 10, 50)\n",
    "class2[2] = np.random.normal(10, 10, 50)"
   ]
  },
  {
   "cell_type": "code",
   "execution_count": 75,
   "metadata": {},
   "outputs": [
    {
     "data": {
      "text/plain": [
       "[<matplotlib.lines.Line2D at 0x108719eb8>,\n",
       " <matplotlib.lines.Line2D at 0x108719ef0>]"
      ]
     },
     "execution_count": 75,
     "metadata": {},
     "output_type": "execute_result"
    }
   ],
   "source": [
    "plt.plot(class1[1], class1[2], 'ro', class2[1], class2[2], 'bs')"
   ]
  },
  {
   "cell_type": "code",
   "execution_count": 76,
   "metadata": {},
   "outputs": [
    {
     "name": "stdout",
     "output_type": "stream",
     "text": [
      "[ 0.46153139 -0.01329124  0.02010504]\n"
     ]
    }
   ],
   "source": [
    "X = np.hstack((class1, class2))\n",
    "Y = np.hstack((np.zeros(50), np.ones(50)))\n",
    "coef = np.dot(np.dot(np.linalg.inv(np.dot(X, X.transpose())), X), Y)\n",
    "print(coef)"
   ]
  },
  {
   "cell_type": "code",
   "execution_count": 77,
   "metadata": {},
   "outputs": [
    {
     "data": {
      "image/png": "[encoded data removed]",
      "text/plain": [
       "<matplotlib.figure.Figure at 0x10a2ec828>"
      ]
     },
     "metadata": {},
     "output_type": "display_data"
    }
   ],
   "source": [
    "plt.plot([0, coef[0]], [30, -coef[0]/coef[2] - 30*coef[1]/coef[2]], 'k-')\n",
    "plt.show()"
   ]
  },
  {
   "cell_type": "code",
   "execution_count": null,
   "metadata": {
    "collapsed": true
   },
   "outputs": [],
   "source": []
  }
 ],
 "metadata": {
  "kernelspec": {
   "display_name": "Python 3",
   "language": "python",
   "name": "python3"
  },
  "language_info": {
   "codemirror_mode": {
    "name": "ipython",
    "version": 3
   },
   "file_extension": ".py",
   "mimetype": "text/x-python",
   "name": "python",
   "nbconvert_exporter": "python",
   "pygments_lexer": "ipython3",
   "version": "3.6.1"
  }
 },
 "nbformat": 4,
 "nbformat_minor": 2
}
