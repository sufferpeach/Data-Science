{
 "cells": [
  {
   "cell_type": "code",
   "execution_count": 1,
   "metadata": {
    "collapsed": true
   },
   "outputs": [],
   "source": [
    "import numpy as np"
   ]
  },
  {
   "cell_type": "code",
   "execution_count": 2,
   "metadata": {
    "collapsed": true
   },
   "outputs": [],
   "source": [
    "def sigmoid(x, derivative = False):\n",
    "    if (derivative):\n",
    "        return sigmoid(x)*(1-sigmoid(x))\n",
    "    return 1/(1+np.exp(-x))"
   ]
  },
  {
   "cell_type": "code",
   "execution_count": 3,
   "metadata": {
    "collapsed": true
   },
   "outputs": [],
   "source": [
    "X = np.array([[0,0,1],\n",
    "              [0,1,1],\n",
    "              [1,0,1],\n",
    "              [1,1,1]])\n",
    "                \n",
    "Y = np.array([[0],\n",
    "              [1],\n",
    "              [1],\n",
    "              [0]])\n",
    "\n",
    "np.random.seed(1)"
   ]
  },
  {
   "cell_type": "code",
   "execution_count": 4,
   "metadata": {
    "collapsed": true
   },
   "outputs": [],
   "source": [
    "syn0 = 2*np.random.random((3, 4)) - 1\n",
    "syn1 = 2*np.random.random((4, 1)) - 1"
   ]
  },
  {
   "cell_type": "code",
   "execution_count": 9,
   "metadata": {},
   "outputs": [
    {
     "name": "stdout",
     "output_type": "stream",
     "text": [
      "Error: 0.00126060275376\n",
      "Error: 0.00117328438844\n",
      "Error: 0.00112581122769\n",
      "Error: 0.00110849997358\n",
      "Error: 0.00111614983052\n",
      "Error: 0.00114651576768\n",
      "Error: 0.0011996030573\n",
      "Error: 0.00127746397137\n",
      "Error: 0.00138439725637\n",
      "Error: 0.00152758950583\n"
     ]
    }
   ],
   "source": [
    "for i in range(100000):\n",
    "    l0 = X\n",
    "    l1 = sigmoid(np.dot(l0, syn0))\n",
    "    l2 = sigmoid(np.dot(l1, syn1))\n",
    "    \n",
    "    l2_error = Y - l2\n",
    "    \n",
    "    if (i % 10000) == 0:\n",
    "        print(\"Error: \" + str(np.mean(np.abs(l2_error))))\n",
    "\n",
    "    l2_delta = l2_error*sigmoid(l2, True)\n",
    "\n",
    "    l1_error = l2_delta.dot(syn1.T)\n",
    "\n",
    "    l1_delta = l1_error * sigmoid(l1, True)\n",
    "\n",
    "    syn1 += l1.T.dot(l2_delta)\n",
    "    syn0 += l0.T.dot(l1_delta)"
   ]
  },
  {
   "cell_type": "code",
   "execution_count": 10,
   "metadata": {},
   "outputs": [
    {
     "name": "stdout",
     "output_type": "stream",
     "text": [
      "[[ 0.00167065]\n",
      " [ 0.99788407]\n",
      " [ 0.99827392]\n",
      " [ 0.0013608 ]]\n"
     ]
    }
   ],
   "source": [
    "print(l2)"
   ]
  }
 ],
 "metadata": {
  "kernelspec": {
   "display_name": "Python 3",
   "language": "python",
   "name": "python3"
  },
  "language_info": {
   "codemirror_mode": {
    "name": "ipython",
    "version": 3
   },
   "file_extension": ".py",
   "mimetype": "text/x-python",
   "name": "python",
   "nbconvert_exporter": "python",
   "pygments_lexer": "ipython3",
   "version": "3.6.1"
  }
 },
 "nbformat": 4,
 "nbformat_minor": 2
}
