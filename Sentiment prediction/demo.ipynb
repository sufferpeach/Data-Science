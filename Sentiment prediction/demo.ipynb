{
 "cells": [
  {
   "cell_type": "code",
   "execution_count": null,
   "metadata": {
    "collapsed": true
   },
   "outputs": [],
   "source": [
    "__author__ = 'xead'\n",
    "from sentiment_classifier import SentimentClassifier\n",
    "from codecs import open\n",
    "import time\n",
    "from flask import Flask, render_template, request\n",
    "app = Flask(__name__)\n",
    "\n",
    "print \"Preparing classifier\"\n",
    "start_time = time.time()\n",
    "classifier = SentimentClassifier()\n",
    "print \"Classifier is ready\"\n",
    "print time.time() - start_time, \"seconds\"\n",
    "\n",
    "@app.route(\"/sentiment-demo\", methods=[\"POST\", \"GET\"])\n",
    "def index_page(text=\"\", prediction_message=\"\"):\n",
    "    if request.method == \"POST\":\n",
    "        text = request.form[\"text\"]\n",
    "        logfile = open(\"ydf_demo_logs.txt\", \"a\", \"utf-8\")\n",
    "\tprint text\n",
    "\tprint >> logfile, \"<response>\"\n",
    "\tprint >> logfile, text\n",
    "        prediction_message = classifier.get_prediction_message(text)\n",
    "        print prediction_message\n",
    "\tprint >> logfile, prediction_message\n",
    "\tprint >> logfile, \"</response>\"\n",
    "\tlogfile.close()\n",
    "\t\n",
    "    return render_template('hello.html', text=text, prediction_message=prediction_message)\n",
    "\n",
    "\n",
    "if __name__ == \"__main__\":\n",
    "    app.run(host='0.0.0.0', port=80, debug=False)"
   ]
  }
 ],
 "metadata": {
  "kernelspec": {
   "display_name": "Python 3",
   "language": "python",
   "name": "python3"
  },
  "language_info": {
   "codemirror_mode": {
    "name": "ipython",
    "version": 3
   },
   "file_extension": ".py",
   "mimetype": "text/x-python",
   "name": "python",
   "nbconvert_exporter": "python",
   "pygments_lexer": "ipython3",
   "version": "3.6.1"
  }
 },
 "nbformat": 4,
 "nbformat_minor": 2
}
